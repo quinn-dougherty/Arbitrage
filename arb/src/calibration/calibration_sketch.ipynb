{
 "cells": [
  {
   "cell_type": "code",
   "execution_count": 21,
   "metadata": {},
   "outputs": [
    {
     "name": "stdout",
     "output_type": "stream",
     "text": [
      "Brier score: 0.57721\n"
     ]
    },
    {
     "data": {
      "text/html": [
       "<div>\n",
       "<style scoped>\n",
       "    .dataframe tbody tr th:only-of-type {\n",
       "        vertical-align: middle;\n",
       "    }\n",
       "\n",
       "    .dataframe tbody tr th {\n",
       "        vertical-align: top;\n",
       "    }\n",
       "\n",
       "    .dataframe thead th {\n",
       "        text-align: right;\n",
       "    }\n",
       "</style>\n",
       "<table border=\"1\" class=\"dataframe\">\n",
       "  <thead>\n",
       "    <tr style=\"text-align: right;\">\n",
       "      <th></th>\n",
       "      <th>actual</th>\n",
       "      <th>prediction</th>\n",
       "      <th>bin</th>\n",
       "    </tr>\n",
       "  </thead>\n",
       "  <tbody>\n",
       "    <tr>\n",
       "      <th>1073</th>\n",
       "      <td>1</td>\n",
       "      <td>0.918909</td>\n",
       "      <td>90-99%</td>\n",
       "    </tr>\n",
       "    <tr>\n",
       "      <th>3418</th>\n",
       "      <td>0</td>\n",
       "      <td>0.959679</td>\n",
       "      <td>90-99%</td>\n",
       "    </tr>\n",
       "    <tr>\n",
       "      <th>2597</th>\n",
       "      <td>1</td>\n",
       "      <td>0.736970</td>\n",
       "      <td>70-79%</td>\n",
       "    </tr>\n",
       "    <tr>\n",
       "      <th>3317</th>\n",
       "      <td>1</td>\n",
       "      <td>0.726654</td>\n",
       "      <td>70-79%</td>\n",
       "    </tr>\n",
       "    <tr>\n",
       "      <th>602</th>\n",
       "      <td>1</td>\n",
       "      <td>0.045612</td>\n",
       "      <td>0-9%</td>\n",
       "    </tr>\n",
       "  </tbody>\n",
       "</table>\n",
       "</div>"
      ],
      "text/plain": [
       "      actual  prediction     bin\n",
       "1073       1    0.918909  90-99%\n",
       "3418       0    0.959679  90-99%\n",
       "2597       1    0.736970  70-79%\n",
       "3317       1    0.726654  70-79%\n",
       "602        1    0.045612    0-9%"
      ]
     },
     "execution_count": 21,
     "metadata": {},
     "output_type": "execute_result"
    }
   ],
   "source": [
    "import pandas as pd\n",
    "import numpy as np\n",
    "import matplotlib.pyplot as plt\n",
    "import altair as alt\n",
    "from sklearn.linear_model import LogisticRegression\n",
    "from sklearn.model_selection import train_test_split\n",
    "from sklearn.metrics import confusion_matrix, brier_score_loss\n",
    "from sklearn.calibration import calibration_curve\n",
    "from sklearn.datasets import load_iris\n",
    "iris_ = load_iris()\n",
    "iris = pd.DataFrame(iris_.data, columns=iris_.feature_names).assign(target=iris_.target)\n",
    "\n",
    "from biodat_load import X_train, y_train, X_test, y_test\n",
    "\n",
    "model = LogisticRegression(solver='lbfgs', max_iter=10**4).fit(X_train, y_train)\n",
    "predict = pd.Series([x[0] for x in model.predict_proba(X_test)], index=y_test.index)\n",
    "\n",
    "print(f'Brier score: {brier_score_loss(y_test, predict):.5}')\n",
    "\n",
    "def mk_bind(Ndv: int = 10):\n",
    "    dv = [(x//Ndv, f'{x}-{x+Ndv-1}%') for x in range(0, 100, Ndv)]\n",
    "    return pd.cut(predict, bins=100//Ndv, labels=[l[1] for l in dv])\n",
    "\n",
    "predict_binned = mk_bind()\n",
    "\n",
    "cali_df = pd.DataFrame(list(zip(y_test, predict, predict_binned)), \n",
    "                       columns=['actual', 'prediction', 'bin'], \n",
    "                       index=y_test.index)\n",
    "\n",
    "by_mean = cali_df.groupby(['bin']).mean()\n",
    "\n",
    "cali_df.head()"
   ]
  },
  {
   "cell_type": "code",
   "execution_count": 28,
   "metadata": {},
   "outputs": [
    {
     "name": "stdout",
     "output_type": "stream",
     "text": [
      "\n",
      "Note: if you're in the Jupyter notebook, Chart.serve() is not the best\n",
      "      way to view plots. Consider using Chart.display().\n",
      "You must interrupt the kernel to cancel this command.\n",
      "\n",
      "Serving to http://127.0.0.1:8889/    [Ctrl-C to exit]\n"
     ]
    },
    {
     "name": "stderr",
     "output_type": "stream",
     "text": [
      "/home/quinn/anaconda3/lib/python3.6/site-packages/altair/utils/core.py:294: FutureWarning: A future version of pandas will default to `skipna=True`. To silence this warning, pass `skipna=True|False` explicitly.\n",
      "  attrs['type'] = infer_vegalite_type(data[attrs['field']])\n",
      "127.0.0.1 - - [09/Mar/2019 12:02:46] \"GET / HTTP/1.1\" 200 -\n"
     ]
    },
    {
     "name": "stdout",
     "output_type": "stream",
     "text": [
      "\n",
      "stopping Server...\n"
     ]
    }
   ],
   "source": [
    "mod_performance = alt.Chart(\n",
    "    pd.DataFrame(np.array(calibration_curve(y_test, predict, n_bins=10)).T, columns=['true','predicted'])\n",
    ").mark_point(\n",
    ").encode(\n",
    "    x='true:Q', \n",
    "    y='predicted:Q')\n",
    "\n",
    "perfect = alt.Chart(\n",
    "    pd.DataFrame(np.array([np.linspace(0,1,100), np.linspace(0,1,100)]).T, columns=['true','predicted'])\n",
    ").mark_line(\n",
    ").encode(\n",
    "    x='true',y='predicted')\n",
    "\n",
    "(perfect + mod_performance).serve()"
   ]
  },
  {
   "cell_type": "code",
   "execution_count": 25,
   "metadata": {},
   "outputs": [
    {
     "data": {
      "text/html": [
       "<div>\n",
       "<style scoped>\n",
       "    .dataframe tbody tr th:only-of-type {\n",
       "        vertical-align: middle;\n",
       "    }\n",
       "\n",
       "    .dataframe tbody tr th {\n",
       "        vertical-align: top;\n",
       "    }\n",
       "\n",
       "    .dataframe thead th {\n",
       "        text-align: right;\n",
       "    }\n",
       "</style>\n",
       "<table border=\"1\" class=\"dataframe\">\n",
       "  <thead>\n",
       "    <tr style=\"text-align: right;\">\n",
       "      <th></th>\n",
       "      <th>actual</th>\n",
       "      <th>prediction</th>\n",
       "    </tr>\n",
       "    <tr>\n",
       "      <th>bin</th>\n",
       "      <th></th>\n",
       "      <th></th>\n",
       "    </tr>\n",
       "  </thead>\n",
       "  <tbody>\n",
       "    <tr>\n",
       "      <th>0-9%</th>\n",
       "      <td>0.854839</td>\n",
       "      <td>0.033513</td>\n",
       "    </tr>\n",
       "    <tr>\n",
       "      <th>10-19%</th>\n",
       "      <td>0.735632</td>\n",
       "      <td>0.146909</td>\n",
       "    </tr>\n",
       "    <tr>\n",
       "      <th>20-29%</th>\n",
       "      <td>0.622642</td>\n",
       "      <td>0.251772</td>\n",
       "    </tr>\n",
       "    <tr>\n",
       "      <th>30-39%</th>\n",
       "      <td>0.681818</td>\n",
       "      <td>0.349122</td>\n",
       "    </tr>\n",
       "    <tr>\n",
       "      <th>40-49%</th>\n",
       "      <td>0.521739</td>\n",
       "      <td>0.441332</td>\n",
       "    </tr>\n",
       "    <tr>\n",
       "      <th>50-59%</th>\n",
       "      <td>0.500000</td>\n",
       "      <td>0.546708</td>\n",
       "    </tr>\n",
       "    <tr>\n",
       "      <th>60-69%</th>\n",
       "      <td>0.317073</td>\n",
       "      <td>0.651518</td>\n",
       "    </tr>\n",
       "    <tr>\n",
       "      <th>70-79%</th>\n",
       "      <td>0.263158</td>\n",
       "      <td>0.747405</td>\n",
       "    </tr>\n",
       "    <tr>\n",
       "      <th>80-89%</th>\n",
       "      <td>0.164179</td>\n",
       "      <td>0.859823</td>\n",
       "    </tr>\n",
       "    <tr>\n",
       "      <th>90-99%</th>\n",
       "      <td>0.215278</td>\n",
       "      <td>0.958297</td>\n",
       "    </tr>\n",
       "  </tbody>\n",
       "</table>\n",
       "</div>"
      ],
      "text/plain": [
       "          actual  prediction\n",
       "bin                         \n",
       "0-9%    0.854839    0.033513\n",
       "10-19%  0.735632    0.146909\n",
       "20-29%  0.622642    0.251772\n",
       "30-39%  0.681818    0.349122\n",
       "40-49%  0.521739    0.441332\n",
       "50-59%  0.500000    0.546708\n",
       "60-69%  0.317073    0.651518\n",
       "70-79%  0.263158    0.747405\n",
       "80-89%  0.164179    0.859823\n",
       "90-99%  0.215278    0.958297"
      ]
     },
     "execution_count": 25,
     "metadata": {},
     "output_type": "execute_result"
    }
   ],
   "source": [
    "by_mean"
   ]
  },
  {
   "cell_type": "code",
   "execution_count": 27,
   "metadata": {},
   "outputs": [
    {
     "data": {
      "text/html": [
       "<div>\n",
       "<style scoped>\n",
       "    .dataframe tbody tr th:only-of-type {\n",
       "        vertical-align: middle;\n",
       "    }\n",
       "\n",
       "    .dataframe tbody tr th {\n",
       "        vertical-align: top;\n",
       "    }\n",
       "\n",
       "    .dataframe thead th {\n",
       "        text-align: right;\n",
       "    }\n",
       "</style>\n",
       "<table border=\"1\" class=\"dataframe\">\n",
       "  <thead>\n",
       "    <tr style=\"text-align: right;\">\n",
       "      <th></th>\n",
       "      <th>actual</th>\n",
       "      <th>predicted</th>\n",
       "    </tr>\n",
       "  </thead>\n",
       "  <tbody>\n",
       "    <tr>\n",
       "      <th>0</th>\n",
       "      <td>0.854839</td>\n",
       "      <td>0.033513</td>\n",
       "    </tr>\n",
       "    <tr>\n",
       "      <th>1</th>\n",
       "      <td>0.735632</td>\n",
       "      <td>0.146909</td>\n",
       "    </tr>\n",
       "    <tr>\n",
       "      <th>2</th>\n",
       "      <td>0.622642</td>\n",
       "      <td>0.251772</td>\n",
       "    </tr>\n",
       "    <tr>\n",
       "      <th>3</th>\n",
       "      <td>0.681818</td>\n",
       "      <td>0.349122</td>\n",
       "    </tr>\n",
       "    <tr>\n",
       "      <th>4</th>\n",
       "      <td>0.521739</td>\n",
       "      <td>0.441332</td>\n",
       "    </tr>\n",
       "    <tr>\n",
       "      <th>5</th>\n",
       "      <td>0.500000</td>\n",
       "      <td>0.546708</td>\n",
       "    </tr>\n",
       "    <tr>\n",
       "      <th>6</th>\n",
       "      <td>0.317073</td>\n",
       "      <td>0.651518</td>\n",
       "    </tr>\n",
       "    <tr>\n",
       "      <th>7</th>\n",
       "      <td>0.263158</td>\n",
       "      <td>0.747405</td>\n",
       "    </tr>\n",
       "    <tr>\n",
       "      <th>8</th>\n",
       "      <td>0.164179</td>\n",
       "      <td>0.859823</td>\n",
       "    </tr>\n",
       "    <tr>\n",
       "      <th>9</th>\n",
       "      <td>0.215278</td>\n",
       "      <td>0.958297</td>\n",
       "    </tr>\n",
       "  </tbody>\n",
       "</table>\n",
       "</div>"
      ],
      "text/plain": [
       "     actual  predicted\n",
       "0  0.854839   0.033513\n",
       "1  0.735632   0.146909\n",
       "2  0.622642   0.251772\n",
       "3  0.681818   0.349122\n",
       "4  0.521739   0.441332\n",
       "5  0.500000   0.546708\n",
       "6  0.317073   0.651518\n",
       "7  0.263158   0.747405\n",
       "8  0.164179   0.859823\n",
       "9  0.215278   0.958297"
      ]
     },
     "execution_count": 27,
     "metadata": {},
     "output_type": "execute_result"
    }
   ],
   "source": [
    "pd.DataFrame(np.array(calibration_curve(y_test, predict, n_bins=10)).T, columns=['actual','predicted'])"
   ]
  },
  {
   "cell_type": "code",
   "execution_count": null,
   "metadata": {},
   "outputs": [],
   "source": []
  },
  {
   "cell_type": "code",
   "execution_count": null,
   "metadata": {},
   "outputs": [],
   "source": []
  },
  {
   "cell_type": "code",
   "execution_count": null,
   "metadata": {},
   "outputs": [],
   "source": []
  },
  {
   "cell_type": "code",
   "execution_count": null,
   "metadata": {},
   "outputs": [],
   "source": []
  },
  {
   "cell_type": "code",
   "execution_count": null,
   "metadata": {},
   "outputs": [],
   "source": []
  },
  {
   "cell_type": "code",
   "execution_count": 4,
   "metadata": {},
   "outputs": [
    {
     "ename": "ImportError",
     "evalue": "cannot import name 'Book'",
     "output_type": "error",
     "traceback": [
      "\u001b[0;31m---------------------------------------------------------------------------\u001b[0m",
      "\u001b[0;31mImportError\u001b[0m                               Traceback (most recent call last)",
      "\u001b[0;32m<ipython-input-4-6050245b29b6>\u001b[0m in \u001b[0;36m<module>\u001b[0;34m\u001b[0m\n\u001b[0;32m----> 1\u001b[0;31m \u001b[0;32mfrom\u001b[0m \u001b[0;34m.\u001b[0m \u001b[0;32mimport\u001b[0m \u001b[0mBook\u001b[0m\u001b[0;34m\u001b[0m\u001b[0m\n\u001b[0m\u001b[1;32m      2\u001b[0m \u001b[0;32mclass\u001b[0m \u001b[0mCalibrationViewer\u001b[0m\u001b[0;34m:\u001b[0m\u001b[0;34m\u001b[0m\u001b[0m\n\u001b[1;32m      3\u001b[0m     \u001b[0;34m'''view calibration a forecaster's calibration and brier score '''\u001b[0m\u001b[0;34m\u001b[0m\u001b[0m\n\u001b[1;32m      4\u001b[0m     \u001b[0;32mdef\u001b[0m \u001b[0m__init__\u001b[0m\u001b[0;34m(\u001b[0m\u001b[0mself\u001b[0m\u001b[0;34m,\u001b[0m \u001b[0mbk\u001b[0m\u001b[0;34m:\u001b[0m \u001b[0mBook\u001b[0m\u001b[0;34m,\u001b[0m \u001b[0mrelevant_to_payout\u001b[0m\u001b[0;34m:\u001b[0m \u001b[0mratio\u001b[0m \u001b[0;34m=\u001b[0m \u001b[0mratio\u001b[0m\u001b[0;34m(\u001b[0m\u001b[0;36m1\u001b[0m\u001b[0;34m,\u001b[0m\u001b[0;36m5\u001b[0m\u001b[0;34m)\u001b[0m\u001b[0;34m,\u001b[0m \u001b[0mmode\u001b[0m\u001b[0;34m:\u001b[0m \u001b[0mstr\u001b[0m \u001b[0;34m=\u001b[0m \u001b[0;34m\"NULL\"\u001b[0m\u001b[0;34m)\u001b[0m\u001b[0;34m:\u001b[0m\u001b[0;34m\u001b[0m\u001b[0m\n\u001b[1;32m      5\u001b[0m         \u001b[0mself\u001b[0m\u001b[0;34m.\u001b[0m\u001b[0mbook\u001b[0m \u001b[0;34m=\u001b[0m \u001b[0mbk\u001b[0m\u001b[0;34m\u001b[0m\u001b[0m\n",
      "\u001b[0;31mImportError\u001b[0m: cannot import name 'Book'"
     ]
    }
   ],
   "source": [
    "#from . import Book\n",
    "class CalibrationViewer: \n",
    "    '''view calibration a forecaster's calibration and brier score '''\n",
    "    def __init__(self, bk: Book, relevant_to_payout: ratio = ratio(1,5), mode: str = \"NULL\"): \n",
    "        self.book = bk\n",
    "        self.relevant_to_payout = (relevant_to_payout * len(self.book.players_df)).__ceil__()\n",
    "        self.expectation: bool = any([x=='NOBODY' for x in self.book.games_df.winner.apply(show)])\n",
    "        \n",
    "    "
   ]
  }
 ],
 "metadata": {
  "kernelspec": {
   "display_name": "Python 3",
   "language": "python",
   "name": "python3"
  },
  "language_info": {
   "codemirror_mode": {
    "name": "ipython",
    "version": 3
   },
   "file_extension": ".py",
   "mimetype": "text/x-python",
   "name": "python",
   "nbconvert_exporter": "python",
   "pygments_lexer": "ipython3",
   "version": "3.6.6"
  }
 },
 "nbformat": 4,
 "nbformat_minor": 2
}
