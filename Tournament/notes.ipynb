{
 "cells": [
  {
   "cell_type": "code",
   "execution_count": 89,
   "metadata": {},
   "outputs": [],
   "source": [
    "\"\"\"module docstring\"\"\"\n",
    "import pandas as pd\n",
    "from itertools import permutations\n",
    "from entities import Bet, Competitor, Forecaster, Game\n",
    "from utils import show\n",
    "\n",
    "### an instance of this object for each round\n",
    "class Round:\n",
    "    def __init__(self, competitors, mode=1):\n",
    "        self.competitors = [Competitor(name) for name in competitors]\n",
    "        self.advance_to_next = [] # advance to next\n",
    "        self.games_df = self.make_games_df(mode)\n",
    "        #self.show_games_df = self.games_df.applymap(show)\n",
    "  \n",
    "    def make_players_df(self):\n",
    "        '''represent the table of players'''\n",
    "        dat = {c.name: [c.wins] for c in self.competitors}\n",
    "        players = pd.DataFrame.from_dict(dat, orient='index', columns=['wins'])\n",
    "        return players\n",
    "\n",
    "    def make_games_df(self, mode=1): \n",
    "        '''return list of games for this round. \n",
    "           mode toggles each player plays once per game or the whole permutation set'''\n",
    "        n = len(self.competitors)\n",
    "        if mode=='exhaustive': \n",
    "            pairs = permutations(self.competitors, 2)\n",
    "            games = [Game(ident=i, black=t[0], white=t[1]) for i,t in enumerate(pairs)]\n",
    "        elif mode==1: \n",
    "            assert len(self.competitors)%2==0\n",
    "            games = [Game(ident=k//2, black=self.competitors[k], white=self.competitors[k+1]) for k in range(0,n//2, 2)]\n",
    "                \n",
    "        games_dict = {g.ident: [g.black, g.white, g.winner] for g in games}                                                                                        \n",
    "        games_df = pd.DataFrame.from_dict(games_dict, orient='index', columns=['black', 'white', 'winner'])\n",
    "        \n",
    "        return games_df\n",
    "    \n",
    "    def mark_winner(self, ident, victory): \n",
    "        self.games_df.iloc[ident].winner = self.games_df.iloc[ident][victory]\n",
    "        pass\n",
    "    \n",
    "    def who_advances(self, by_name=False): \n",
    "        def who_advances_():\n",
    "            self.advance_to_next = self.games_df.winner\n",
    "            return self.advance_to_next\n",
    "        if by_name: return who_advances_().apply(show).to_numpy()\n",
    "        else: return who_advances_().to_numpy()\n",
    "\n",
    "class Book(Round): \n",
    "    def __init__(self, forecasters):\n",
    "        super()"
   ]
  },
  {
   "cell_type": "code",
   "execution_count": 90,
   "metadata": {},
   "outputs": [
    {
     "data": {
      "text/html": [
       "<div>\n",
       "<style scoped>\n",
       "    .dataframe tbody tr th:only-of-type {\n",
       "        vertical-align: middle;\n",
       "    }\n",
       "\n",
       "    .dataframe tbody tr th {\n",
       "        vertical-align: top;\n",
       "    }\n",
       "\n",
       "    .dataframe thead th {\n",
       "        text-align: right;\n",
       "    }\n",
       "</style>\n",
       "<table border=\"1\" class=\"dataframe\">\n",
       "  <thead>\n",
       "    <tr style=\"text-align: right;\">\n",
       "      <th></th>\n",
       "      <th>black</th>\n",
       "      <th>white</th>\n",
       "      <th>winner</th>\n",
       "    </tr>\n",
       "  </thead>\n",
       "  <tbody>\n",
       "    <tr>\n",
       "      <th>0</th>\n",
       "      <td>a</td>\n",
       "      <td>d</td>\n",
       "      <td>None</td>\n",
       "    </tr>\n",
       "  </tbody>\n",
       "</table>\n",
       "</div>"
      ],
      "text/plain": [
       "  black white winner\n",
       "0     a     d   None"
      ]
     },
     "execution_count": 90,
     "metadata": {},
     "output_type": "execute_result"
    }
   ],
   "source": [
    "one = Round([f'{c}' for c in \"abcdefgh\"])\n",
    "\n",
    "one.mark_winner(1, 'white')\n",
    "one.mark_winner(0, 'black')\n",
    "\n",
    "one.games_df.applymap(show).isna().sum()\n",
    "\n",
    "two = Round(one.who_advances(by_name=True))\n",
    "\n",
    "two.games_df.applymap(show)"
   ]
  },
  {
   "cell_type": "code",
   "execution_count": 65,
   "metadata": {},
   "outputs": [],
   "source": []
  },
  {
   "cell_type": "code",
   "execution_count": 15,
   "metadata": {},
   "outputs": [
    {
     "data": {
      "text/plain": [
       "False"
      ]
     },
     "execution_count": 15,
     "metadata": {},
     "output_type": "execute_result"
    }
   ],
   "source": []
  }
 ],
 "metadata": {
  "kernelspec": {
   "display_name": "Python 3",
   "language": "python",
   "name": "python3"
  },
  "language_info": {
   "codemirror_mode": {
    "name": "ipython",
    "version": 3
   },
   "file_extension": ".py",
   "mimetype": "text/x-python",
   "name": "python",
   "nbconvert_exporter": "python",
   "pygments_lexer": "ipython3",
   "version": "3.6.6"
  }
 },
 "nbformat": 4,
 "nbformat_minor": 2
}
